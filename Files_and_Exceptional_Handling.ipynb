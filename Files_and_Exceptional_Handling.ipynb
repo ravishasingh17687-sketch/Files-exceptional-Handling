{
  "nbformat": 4,
  "nbformat_minor": 0,
  "metadata": {
    "colab": {
      "provenance": [],
      "toc_visible": true
    },
    "kernelspec": {
      "name": "python3",
      "display_name": "Python 3"
    },
    "language_info": {
      "name": "python"
    }
  },
  "cells": [
    {
      "cell_type": "markdown",
      "source": [
        "#Files & Exceptional Handling"
      ],
      "metadata": {
        "id": "2e4Y3_4U4Tvb"
      }
    },
    {
      "cell_type": "markdown",
      "source": [
        "1. What is the difference between interpreted and compiled languages?\n",
        "- Interpreted Language\n",
        "  - Code is read and executed line-by-line by an interpreter at runtime.\n",
        "  - Speed is slower because translation happens as the program runs.\n",
        "  - Errors are found when that part of the code is reached during execution.\n",
        "  - More portable — the same code can run on any system with the right interpreter.\n",
        "\n",
        "- Compiled Language\n",
        "  - Code is translated all at once into machine code by a compiler before running.\n",
        "  - Speed is faster because the program is already in machine code when run.\n",
        "  - Many errors are found before execution, during compilation.\n",
        "  - Less portable — compiled programs often need recompiling for each system type."
      ],
      "metadata": {
        "id": "7TNgbUUi4rEK"
      }
    },
    {
      "cell_type": "markdown",
      "source": [
        "2. What is exception handling in Python?\n",
        "- Exception handling in Python is a way to deal with errors in your program without crashing it.\n",
        "\n",
        "Instead of letting the program stop when something unexpected happens (like dividing by zero or trying to open a missing file), Python lets you “catch” the error and decide what to do next."
      ],
      "metadata": {
        "id": "imZvSxSE5uK6"
      }
    },
    {
      "cell_type": "markdown",
      "source": [
        "3.  What is the purpose of the finally block in exception handling?\n",
        "- Purpose is to ensure cleanup actions are performed.\n",
        "Commonly used for closing files, releasing resources, disconnecting from databases, or stopping background processes."
      ],
      "metadata": {
        "id": "F7jChiM-6C0T"
      }
    },
    {
      "cell_type": "markdown",
      "source": [
        "4.  What is logging in Python?\n",
        "- Logging in Python is the process of recording events, messages, and errors that happen while a program runs, so you can track, debug, and monitor its behavior.\n",
        "\n",
        "Instead of printing messages to the console with print(), you use Python’s built-in logging module, which gives you more control — like setting importance levels, saving logs to files, and formatting them neatly."
      ],
      "metadata": {
        "id": "o_973eB76YjW"
      }
    },
    {
      "cell_type": "markdown",
      "source": [
        "5.  What is the significance of the __del__ method in Python?\n",
        "- The __del__ method in Python is called a destructor — it’s a special method that runs automatically when an object is about to be destroyed (i.e., when it’s garbage collected).\n",
        "\n",
        "Its main purpose is to give you a place to put cleanup code for that object — like closing files, releasing network connections, or freeing other resources."
      ],
      "metadata": {
        "id": "AhbE7JHL6lte"
      }
    },
    {
      "cell_type": "markdown",
      "source": [
        "6.  What is the difference between import and from ... import in Python?\n",
        "- The difference between import and from ... import in Python is about how you bring code from a module into your program and how you access it afterward."
      ],
      "metadata": {
        "id": "75iJJE1S6xLB"
      }
    },
    {
      "cell_type": "markdown",
      "source": [
        "7. How can you handle multiple exceptions in Python?\n",
        "- You can handle multiple exceptions in Python by using either-\n",
        " - Multiple except blocks-This lets you handle different exceptions separately with different code.\n",
        " - Handling multiple exceptions in a single block-If you want the same handling for multiple exception types, you can group them in a tuple.\n",
        " - Using a base Exception class-If you want to catch all exceptions, you can use except Exception"
      ],
      "metadata": {
        "id": "2K2S_24t7BYi"
      }
    },
    {
      "cell_type": "markdown",
      "source": [
        "8. What is the purpose of the with statement when handling files in Python?\n",
        "- The with statement in Python is used to simplify resource management — especially for files.\n",
        "\n",
        "When handling files, its main purpose is to open the file, let you work with it, and automatically close it when you’re done, even if an error occurs."
      ],
      "metadata": {
        "id": "IF1VK-0F7c3S"
      }
    },
    {
      "cell_type": "markdown",
      "source": [
        "9. What is the difference between multithreading and multiprocessing?\n",
        "- The difference between multithreading and multiprocessing in Python comes down to how tasks are run in parallel and how system resources are used.\n",
        " - Multithreading - Runs multiple threads (lightweight processes) within the same process.\n",
        " - Multiprocessing - Runs multiple processes, each with its own Python interpreter and memory space."
      ],
      "metadata": {
        "id": "reJi0hE585DO"
      }
    },
    {
      "cell_type": "markdown",
      "source": [
        "10.  What are the advantages of using logging in a program?\n",
        "- Advantages-\n",
        " - Tracks program execution over time\n",
        "   - Keeps a permanent record of what happened and when.\n",
        "   - Useful for debugging and auditing.\n",
        " - Provides different severity levels - You can separate harmless info from critical errors using levels like:\n",
        "   DEBUG, INFO, WARNING, ERROR, CRITICAL.\n",
        "   - Makes it easier to filter only what you need.\n",
        " - Saves logs to files (or elsewhere)\n",
        "   - You can write logs to: Files, Databases\n",
        "   - Remote monitoring systems\n",
        "   - Makes it easy to review later.\n",
        " - Configurable without changing code - You can turn logging on/off or adjust its level via configuration instead of editing your code.\n",
        "\n"
      ],
      "metadata": {
        "id": "Y68pX38L9Ofw"
      }
    },
    {
      "cell_type": "markdown",
      "source": [
        "11. What is memory management in Python?\n",
        "- Memory management in Python is the process of allocating, using, and freeing memory for your program’s objects automatically, so you don’t have to manually request and release memory like in C or C++.\n",
        "\n",
        "Python handles most of it for you through its built-in memory manager and garbage collector."
      ],
      "metadata": {
        "id": "gS_DHNLd-OJu"
      }
    },
    {
      "cell_type": "markdown",
      "source": [
        "12. What are the basic steps involved in exception handling in Python?\n",
        "- The basic steps in exception handling in Python follow a clear flow that uses the try, except, else, and finally blocks.\n",
        "  - Place risky code inside a try block\n",
        "  - Catch the exception with except\n",
        "  - Use else for code that runs if no exception occurs\n",
        "  - Use finally for cleanup code"
      ],
      "metadata": {
        "id": "ASdDsFBJ-ZVQ"
      }
    },
    {
      "cell_type": "markdown",
      "source": [
        "13.  Why is memory management important in Python?\n",
        "- Memory management is important in Python because it directly affects a program’s performance, stability, and reliability.\n",
        "  - Prevents memory leaks\n",
        "  - Improves performance\n",
        "  - Allows large programs to run smoothly\n",
        "  - Simplifies coding for developers\n",
        "  - Supports multitasking and scalability"
      ],
      "metadata": {
        "id": "ykxS8_RD-uSR"
      }
    },
    {
      "cell_type": "markdown",
      "source": [
        "14. What is the role of try and except in exception handling?\n",
        "- In Python exception handling, the try and except blocks work together to detect and handle errors so your program doesn’t crash unexpectedly.\n",
        "  - Role of try\n",
        "  - The try block contains code that might raise an exception.\n",
        "  - Python executes the code inside try normally until an error occurs.\n",
        "  - If no error occurs, the except block is skipped."
      ],
      "metadata": {
        "id": "fB4vGGP3_GpL"
      }
    },
    {
      "cell_type": "markdown",
      "source": [
        "15. How does Python's garbage collection system work?\n",
        "- Python’s garbage collection system is responsible for automatically finding and freeing memory that is no longer in use by your program, so you don’t have to manually manage it (unlike in C or C++).\n",
        "\n",
        "It works in two main ways: reference counting + cycle detection.\n",
        "   - Reference Counting (primary method)\n",
        "   - Garbage Collector for Cyclic References\n",
        "   - Generational Garbage Collection"
      ],
      "metadata": {
        "id": "i_3C23WT_dHj"
      }
    },
    {
      "cell_type": "markdown",
      "source": [
        "16.  What is the purpose of the else block in exception handling?\n",
        "- In Python’s exception handling, the else block is used to run code only if no exception occurs in the try block.\n",
        "  - Separates normal execution code from error-handling code.\n",
        "  - Improves readability by keeping try for risky code, except for errors, and else for safe, follow-up actions.\n",
        "  - Makes it clear which part of the code should run only when everything in try succeeds."
      ],
      "metadata": {
        "id": "ns47rBWRBZkm"
      }
    },
    {
      "cell_type": "markdown",
      "source": [
        "17. What are the common logging levels in Python?\n",
        "- Loging level in Pythons are-\n",
        "  - DEBUG\n",
        "  - INFO\n",
        "  - WARNING\n",
        "  - ERROR"
      ],
      "metadata": {
        "id": "5K9hCn02BsdJ"
      }
    },
    {
      "cell_type": "markdown",
      "source": [
        "18. What is the difference between os.fork() and multiprocessing in Python?\n",
        "- The difference between os.fork() and multiprocessing in Python mainly comes down to how they create processes, portability, and ease of use.\n",
        "1. os.fork()\n",
        "  - Directly creates a new child process by duplicating the current process.\n",
        "  - Works only on Unix/Linux/macOS (not available on Windows).\n",
        "  - You must manually handle communication between processes.\n",
        "2. multiprocessing module\n",
        "  - High-level API for creating and managing processes.\n",
        "  - Works on Windows, macOS, and Linux.\n",
        "  - Abstracts away low-level fork() details."
      ],
      "metadata": {
        "id": "5Wn0hlxXCIG-"
      }
    },
    {
      "cell_type": "markdown",
      "source": [
        "19.  What is the importance of closing a file in Python?\n",
        "- Importance-\n",
        " -  Releases System Resources\n",
        " - Ensures Data is Written to Disk (Flushes Buffers)\n",
        " - Prevents File Corruption\n",
        " - Allows Other Programs to Access the File\n"
      ],
      "metadata": {
        "id": "IRQHVE2HCr-P"
      }
    },
    {
      "cell_type": "markdown",
      "source": [
        "20. What is the difference between file.read() and file.readline() in Python?\n",
        "- The difference between file.read() and file.readline() in Python is mainly how much data they read at once and how they treat line breaks.\n",
        " 1. file.read() -  \n",
        "  - Reads the entire file content (or a specified number of characters/bytes) into a single string.\n",
        "  - Reads until end of file (or until the optional size argument is reached).\n",
        "  - Use case when you need to process the whole file at once.\n",
        "\n",
        "2. file.readline() -\n",
        "  - Reads only one line from the file at a time.\n",
        "  - Reads until a newline character (\\n) or EOF.\n",
        "  - Use case when you want to process files line by line (more memory efficient)."
      ],
      "metadata": {
        "id": "hjblFsYqC_uK"
      }
    },
    {
      "cell_type": "markdown",
      "source": [
        "21.  What is the logging module in Python used for?\n",
        "- Debugging - Helps track down issues by logging variable values and execution flow.\n",
        "- Monitoring - Keeps a record of important events, errors, or warnings during program execution.\n",
        "- Error Tracking - Captures runtime errors with detailed context, without stopping the program.\n",
        "- Audit Trails - Stores historical information about program operations for later review."
      ],
      "metadata": {
        "id": "TQwHZMHxDn9E"
      }
    },
    {
      "cell_type": "markdown",
      "source": [
        "22.  What is the os module in Python used for in file handling?\n",
        "- The os module in Python is used for interacting with the operating system, and in file handling it gives you tools to work with files, directories, and paths beyond just reading and writing.\n",
        "\n",
        "  - Creating, Renaming, and Deleting Files\n",
        "  - Working with Directories\n",
        "  - Listing Files and Folders\n",
        "  - Path Handling\n",
        "  - File Metadata"
      ],
      "metadata": {
        "id": "EtC5KvyrD9ET"
      }
    },
    {
      "cell_type": "markdown",
      "source": [
        "23. What are the challenges associated with memory management in Python?\n",
        "- Challenges -\n",
        "  - Memory Leaks\n",
        "  - Circular References\n",
        "  - High Memory Usage for Large Data\n",
        "  - Fragmentation\n",
        "  - Unreleased External Resources\n",
        "  - Reference Counting Overhead\n",
        "  - Long-Lived Objects in Global Scope"
      ],
      "metadata": {
        "id": "SnBfaYgfETSx"
      }
    },
    {
      "cell_type": "markdown",
      "source": [
        "24.  How do you raise an exception manually in Python?\n",
        "- You can raise exceptions anywhere in your code when an error condition occurs.\n",
        "- The raised exception will immediately stop execution unless it’s caught with try/except.\n",
        "- You can use custom exception classes to make errors more descriptive."
      ],
      "metadata": {
        "id": "MxU5tSHLEvnh"
      }
    },
    {
      "cell_type": "markdown",
      "source": [
        "25.  Why is it important to use multithreading in certain applications?\n",
        "- Better Responsiveness\n",
        "- Efficient I/O Operations\n",
        "- Resource Sharing\n",
        "- Improved Throughput in I/O-Bound Programs\n",
        "- Parallelism (Limited in Python for CPU-bound tasks)"
      ],
      "metadata": {
        "id": "LbG4Rjp6E8M0"
      }
    },
    {
      "cell_type": "markdown",
      "source": [
        "#Practical Questions"
      ],
      "metadata": {
        "id": "NmcY7f4rFNe1"
      }
    },
    {
      "cell_type": "markdown",
      "source": [
        "1. How can you open a file for writing in Python and write a string to it?\n",
        "- You can open a file for writing in Python using the open() function with mode \"w\" (write mode), and then use the write() method to store a string in it.\n",
        "\n",
        "      # Open file in write mode\n",
        "        file = open(\"example.txt\", \"w\")\n",
        "\n",
        "      # Write a string to the file\n",
        "      file.write(\"Hello, Python file handling!\")\n",
        "\n",
        "      # Close the file\n",
        "      file.close()-"
      ],
      "metadata": {
        "id": "vCP2OYXpFTX_"
      }
    },
    {
      "cell_type": "markdown",
      "source": [
        "2. Write a Python program to read the contents of a file and print each line.\n",
        "-  Prrogram\n",
        "       # Open the file in read mode\n",
        "       with open(\"example.txt\", \"r\") as file:\n",
        "       # Read and print each line\n",
        "       for line in file:\n",
        "       print(line.strip())  # strip() removes newline characters"
      ],
      "metadata": {
        "id": "MBqAM8TyFu46"
      }
    },
    {
      "cell_type": "markdown",
      "source": [
        "3. How would you handle a case where the file doesn't exist while trying to open it for reading?\n",
        "- If the file doesn’t exist and you try to open it in read mode (\"r\"), Python will raise a FileNotFoundError.\n",
        "You can handle this gracefully using exception handling (try / except).\n",
        "     \n",
        "      - try:\n",
        "        with open(\"example.txt\", \"r\") as file:\n",
        "        for line in file:\n",
        "            print(line.strip())\n",
        "        except FileNotFoundError:\n",
        "        print(\"Error: The file does not exist. Please check the file name or path.\")"
      ],
      "metadata": {
        "id": "SpoRydqgGDgH"
      }
    },
    {
      "cell_type": "markdown",
      "source": [
        "4. Write a Python script that reads from one file and writes its content to another file.\n",
        "- Python Script-\n",
        "         - # Read from one file and write to another\n",
        "\n",
        "          # Source file (to read from)\n",
        "          source_file = \"source.txt\"\n",
        "\n",
        "          # Destination file (to write to)\n",
        "          destination_file = \"destination.txt\"\n",
        "\n",
        "          try:\n",
        "          with open(source_file, \"r\") as src:\n",
        "          with open(destination_file, \"w\") as dest:\n",
        "        for line in src:\n",
        "                dest.write(line)\n",
        "          print(f\"Contents copied from '{source_file}' to '{destination_file}'.\")\n",
        "          except FileNotFoundError:\n",
        "          print(f\"Error: The file '{source_file}' does not exist.\")"
      ],
      "metadata": {
        "id": "il4Hl3kpGT_o"
      }
    },
    {
      "cell_type": "markdown",
      "source": [
        "5.  How would you catch and handle division by zero error in Python?\n",
        "- In Python, dividing a number by zero raises a ZeroDivisionError.\n",
        "You can handle it using a try / except block so the program doesn’t crash.\n",
        "\n",
        "        - try:\n",
        "        numerator = int(input(\"Enter numerator: \"))\n",
        "        denominator = int(input(\"Enter denominator: \"))\n",
        "    \n",
        "        result = numerator / denominator\n",
        "        print(\"Result:\", result)\n",
        "\n",
        "        except ZeroDivisionError:\n",
        "        print(\"Error: Division by zero is not allowed.\")"
      ],
      "metadata": {
        "id": "_GaVjjjDG5T1"
      }
    },
    {
      "cell_type": "markdown",
      "source": [
        "6. Write a Python program that logs an error message to a log file when a division by zero exception occurs.\n",
        "-\n",
        "      - import logging\n",
        "\n",
        "      # Configure logging to write to a file\n",
        "      logging.basicConfig(filename=\"error.log\",\n",
        "                    level=logging.ERROR,\n",
        "                    format=\"%(asctime)s - %(levelname)s - %(message)s\")\n",
        "\n",
        "       try:\n",
        "       numerator = int(input(\"Enter numerator: \"))\n",
        "       denominator = int(input(\"Enter denominator: \"))\n",
        "\n",
        "       result = numerator / denominator\n",
        "       print(\"Result:\", result)\n",
        "\n",
        "       except ZeroDivisionError:\n",
        "       logging.error(\"Division by zero attempted.\")\n",
        "       print(\"Error: Division by zero is not allowed. Check error.log for details.\")"
      ],
      "metadata": {
        "id": "_GW0Gn2HHOSb"
      }
    },
    {
      "cell_type": "markdown",
      "source": [
        "7.  How do you log information at different levels (INFO, ERROR, WARNING) in Python using the logging module?\n",
        "- In Python’s logging module, you can log messages at different severity levels:\n",
        "  - DEBUG → Detailed diagnostic information (lowest level).\n",
        "  - INFO → General program events.\n",
        "  - WARNING → Something unexpected happened, but program can still run.\n",
        "  - ERROR → A serious problem that prevented some part of the program from running.\n",
        "  - CRITICAL → The program may be unable to continue running (highest level).\n",
        "\n",
        "\n",
        " Example:\n",
        "\n",
        "       import logging\n",
        "\n",
        "       # Configure logging\n",
        "       logging.basicConfig(filename=\"app.log\",\n",
        "                    level=logging.DEBUG,   # Logs all levels from DEBUG upward\n",
        "                    format=\"%(asctime)s - %(levelname)s - %(message)s\")\n",
        "\n",
        "       # Log messages at different levels\n",
        "       logging.debug(\"This is a DEBUG message (for troubleshooting).\")\n",
        "       logging.info(\"This is an INFO message (general update).\")\n",
        "       logging.warning(\"This is a WARNING message (something unexpected).\")\n",
        "       logging.error(\"This is an ERROR message (something went wrong).\")\n",
        "       logging.critical(\"This is a CRITICAL message (serious failure).\")"
      ],
      "metadata": {
        "id": "3weC_UbgHkWt"
      }
    },
    {
      "cell_type": "markdown",
      "source": [
        "8.  Write a program to handle a file opening error using exception handling.\n",
        "-\n",
        "      try:\n",
        "      # Attempt to open a file for reading\n",
        "      file_name = input(\"Enter the file name to open: \")\n",
        "      with open(file_name, 'r') as file:\n",
        "        contents = file.read()\n",
        "        print(contents)\n",
        "\n",
        "      except FileNotFoundError:\n",
        "      print(f\"Error: The file '{file_name}' does not exist.\")\n",
        "\n",
        "      except PermissionError:\n",
        "      print(f\"Error: You do not have permission to read '{file_name}'.\")\n",
        "\n",
        "      except Exception as e:\n",
        "      print(f\"An unexpected error occurred: {e}\")"
      ],
      "metadata": {
        "id": "yfNuQ3vtIML4"
      }
    },
    {
      "cell_type": "markdown",
      "source": [
        "9. How can you read a file line by line and store its content in a list in Python.\n",
        "-\n",
        "      # Open file and read lines into a list\n",
        "      with open(\"example.txt\", \"r\") as file:\n",
        "      lines = file.readlines()  # Returns a list where each element is a line\n",
        "\n",
        "      # Strip newline characters\n",
        "      lines = [line.strip() for line in lines]\n",
        "\n",
        "      print(lines)\n"
      ],
      "metadata": {
        "id": "GMXj2YbQIeiO"
      }
    },
    {
      "cell_type": "markdown",
      "source": [
        "10.  How can you append data to an existing file in Python.\n",
        "- You can append data to an existing file in Python by opening it in append mode (\"a\").\n",
        "In append mode, new content is added to the end of the file without erasing the existing data.\n",
        "\n",
        "        # Open file in append mode and write new data\n",
        "        with open(\"example.txt\", \"a\") as file:\n",
        "        file.write(\"\\nThis is a new line of text.\")\n",
        "\n",
        "        print(\"Data appended successfully.\")"
      ],
      "metadata": {
        "id": "6yqWMtg3Ir7S"
      }
    },
    {
      "cell_type": "markdown",
      "source": [
        "11.  Write a Python program that uses a try-except block to handle an error when attempting to access a dictionary key that doesn't exist.\n",
        "-\n",
        "        # Sample dictionary\n",
        "        data = {\n",
        "        \"name\": \"Alice\",\n",
        "        \"age\": 25,\n",
        "         \"city\": \"Mumbai\"\n",
        "          }\n",
        "\n",
        "        try:\n",
        "        key = input(\"Enter the key you want to access: \")\n",
        "        value = data[key]\n",
        "        print(f\"Value for '{key}': {value}\")\n",
        "\n",
        "        except KeyError:\n",
        "        print(f\"Error: The key '{key}' does not exist in the dictionary.\")"
      ],
      "metadata": {
        "id": "DSGCg_UbI5Mi"
      }
    },
    {
      "cell_type": "markdown",
      "source": [
        "12. Write a program that demonstrates using multiple except blocks to handle different types of exceptions.\n",
        "-\n",
        "      try:\n",
        "      # Get two numbers from the user\n",
        "      num1 = int(input(\"Enter first number: \"))\n",
        "      num2 = int(input(\"Enter second number: \"))\n",
        "\n",
        "      # Perform division\n",
        "      result = num1 / num2\n",
        "\n",
        "      # Access a dictionary key\n",
        "      data = {\"name\": \"Alice\"}\n",
        "      print(\"Age:\", data[\"age\"])\n",
        "\n",
        "      except ValueError:\n",
        "      print(\"Error: Please enter valid integers.\")\n",
        "\n",
        "      except ZeroDivisionError:\n",
        "      print(\"Error: Division by zero is not allowed.\")\n",
        "\n",
        "      except KeyError:\n",
        "      print(\"Error: The specified key does not exist in the dictionary.\")\n",
        "\n",
        "      except Exception as e:\n",
        "      print(f\"An unexpected error occurred: {e}\")"
      ],
      "metadata": {
        "id": "u0JCVtntJOXJ"
      }
    },
    {
      "cell_type": "markdown",
      "source": [
        "13. How would you check if a file exists before attempting to read it in Python?\n",
        "- You can check if a file exists before reading it using the os.path.exists() function or the pathlib module.\n",
        "      import os\n",
        "\n",
        "      file_path = \"example.txt\"\n",
        "\n",
        "      if os.path.exists(file_path):\n",
        "      with open(file_path, \"r\") as file:\n",
        "        content = file.read()\n",
        "        print(content)\n",
        "      else:\n",
        "      print(f\"Error: '{file_path}' does not exist.\")"
      ],
      "metadata": {
        "id": "z8Hd8pKoJvgE"
      }
    },
    {
      "cell_type": "markdown",
      "source": [
        "14.  Write a program that uses the logging module to log both informational and error messages.\n",
        "-\n",
        "      import logging\n",
        "\n",
        "      # Configure logging\n",
        "      logging.basicConfig(\n",
        "      filename=\"app.log\",           # Log file name\n",
        "      level=logging.DEBUG,          # Minimum log level\n",
        "      format=\"%(asctime)s - %(levelname)s - %(message)s\"\n",
        "      )\n",
        "\n",
        "      # Example logging\n",
        "      logging.info(\"Program started\")\n",
        "\n",
        "      try:\n",
        "      num1 = int(input(\"Enter first number: \"))\n",
        "      num2 = int(input(\"Enter second number: \"))\n",
        "      result = num1 / num2\n",
        "      logging.info(f\"Division successful: {num1} / {num2} = {result}\")\n",
        "\n",
        "      except ValueError:\n",
        "      logging.error(\"Invalid input: Non-integer value entered.\")\n",
        "\n",
        "      except ZeroDivisionError:\n",
        "      logging.error(\"Attempted division by zero.\")\n",
        "\n",
        "      except Exception as e:\n",
        "      logging.error(f\"Unexpected error: {e}\")\n",
        "\n",
        "      logging.info(\"Program ended\")"
      ],
      "metadata": {
        "id": "ARW_ORReKBCN"
      }
    },
    {
      "cell_type": "markdown",
      "source": [
        "15. Write a Python program that prints the content of a file and handles the case when the file is empty.\n",
        "-\n",
        "\n",
        "        import os\n",
        "\n",
        "         file_path = \"example.txt\"  # Change this to your file path\n",
        "\n",
        "         try:\n",
        "    if os.path.exists(file_path):\n",
        "        with open(file_path, \"r\") as file:\n",
        "        content = file.read()\n",
        "\n",
        "    if content.strip():  # Ignore spaces/newlines when checking emptiness\n",
        "        print(\"File Content:\")\n",
        "        print(content)\n",
        "        else:\n",
        "        print(\"The file is empty.\")\n",
        "    else:\n",
        "        print(f\"Error: The file '{file_path}' does not exist.\")\n",
        "\n",
        "    except Exception as e:\n",
        "    print(f\"An error occurred while reading the file: {e}\")"
      ],
      "metadata": {
        "id": "hedLqXkoLD6A"
      }
    },
    {
      "cell_type": "markdown",
      "source": [
        "16. Demonstrate how to use memory profiling to check the memory usage of a small program.\n",
        "-\n",
        "1. Install memory_profiler\n",
        "       pip install memory_profile\n",
        "\n",
        "2. Example Program with Memory Profiling\n",
        "       from memory_profiler import profile\n",
        "\n",
        "       @profile\n",
        "       def create_large_list():\n",
        "       # Creating a list with 1 million integers\n",
        "       large_list = [i for i in range(1_000_000)]\n",
        "       print(\"List created.\")\n",
        "       return large_list\n",
        "\n",
        "       if __name__ == \"__main__\":\n",
        "       create_large_list()\n",
        "\n",
        "3. Run the Program with Profiling\n",
        "         python -m memory_profiler your_file.py\n"
      ],
      "metadata": {
        "id": "5mjF5d3pLmtv"
      }
    },
    {
      "cell_type": "markdown",
      "source": [
        "17. Write a Python program to create and write a list of numbers to a file, one number per line.\n",
        "-\n",
        "      # List of numbers to write\n",
        "      numbers = [10, 20, 30, 40, 50]\n",
        "\n",
        "      # File path\n",
        "        file_path = \"numbers.txt\"\n",
        "\n",
        "      try:\n",
        "      with open(file_path, \"w\") as file:\n",
        "      for num in numbers:\n",
        "            file.write(f\"{num}\\n\")  # Write each number on a new line\n",
        "      print(f\"Numbers have been written to '{file_path}'.\")\n",
        "      except Exception as e:\n",
        "      print(f\"An error occurred: {e}\")"
      ],
      "metadata": {
        "id": "QG8kUq-3MWmZ"
      }
    },
    {
      "cell_type": "markdown",
      "source": [
        "18. How would you implement a basic logging setup that logs to a file with rotation after 1MB?\n",
        "- You can use logging.handlers.RotatingFileHandler for this.\n",
        "Here’s a basic setup that logs to a file and automatically rotates after the file size exceeds 1 MB.\n",
        "      import logging\n",
        "      from logging.handlers import RotatingFileHandler\n",
        "\n",
        "      # Create a logger\n",
        "      logger = logging.getLogger(\"MyLogger\")\n",
        "      logger.setLevel(logging.DEBUG)  # Capture all levels (DEBUG, INFO, WARNING, ERROR, CRITICAL)\n",
        "\n",
        "      # Create a rotating file handler\n",
        "      handler = RotatingFileHandler(\n",
        "      \"app.log\",        # Log file name\n",
        "      maxBytes=1_000_000,  # Rotate after 1 MB\n",
        "      backupCount=5        # Keep 5 backup log files\n",
        "      )\n",
        "\n",
        "      # Create a formatter and add it to the handler\n",
        "      formatter = logging.Formatter('%(asctime)s - %(levelname)s - %(message)s')\n",
        "      handler.setFormatter(formatter)\n",
        "\n",
        "      # Add the handler to the logger\n",
        "      logger.addHandler(handler)\n",
        "\n",
        "      # Example logging\n",
        "      for i in range(10000):\n",
        "      logger.debug(f\"This is log message number {i}\")"
      ],
      "metadata": {
        "id": "BzE1dL1UM0RV"
      }
    },
    {
      "cell_type": "markdown",
      "source": [
        "19. Write a program that handles both IndexError and KeyError using a try-except block.\n",
        "-\n",
        "      # Sample data\n",
        "      my_list = [1, 2, 3]\n",
        "      my_dict = {\"a\": 10, \"b\": 20}\n",
        "\n",
        "      try:\n",
        "      # Trying to access a non-existent list index\n",
        "      print(my_list[5])\n",
        "\n",
        "      # Trying to access a non-existent dictionary key\n",
        "      print(my_dict[\"z\"])\n",
        "\n",
        "      except IndexError as e:\n",
        "      print(f\"IndexError occurred: {e}\")\n",
        "\n",
        "      except KeyError as e:\n",
        "      print(f\"KeyError occurred: {e}\")\n"
      ],
      "metadata": {
        "id": "SXR4w7e5NUqJ"
      }
    },
    {
      "cell_type": "markdown",
      "source": [
        "20. How would you open a file and read its contents using a context manager in Python.\n",
        "- You can use Python’s with statement (a context manager) to open and read a file.This ensures the file is automatically closed after the block finishes, even if an error occurs.\n",
        "        file_path = \"example.txt\"\n",
        "\n",
        "        try:\n",
        "        with open(file_path, \"r\") as file:  # \"r\" = read mode\n",
        "        contents = file.read()  # Read the whole file\n",
        "        print(contents)\n",
        "        except FileNotFoundError:\n",
        "        print(f\"The file '{file_path}' does not exist.\")\n",
        "        except Exception as e:\n",
        "        print(f\"An error occurred: {e}\")\n",
        "    "
      ],
      "metadata": {
        "id": "yez_K-yFNsb5"
      }
    },
    {
      "cell_type": "markdown",
      "source": [
        "21. Write a Python program that reads a file and prints the number of occurrences of a specific word.\n",
        "-\n",
        "       # File path and word to search\n",
        "       file_path = \"sample.txt\"\n",
        "       search_word = \"python\"\n",
        "\n",
        "       try:\n",
        "       with open(file_path, \"r\") as file:\n",
        "       contents = file.read().lower()  # Convert to lowercase for case-insensitive search\n",
        "       word_count = contents.split().count(search_word.lower())\n",
        "\n",
        "       print(f\"The word '{search_word}' occurs {word_count} times in '{file_path}'.\")\n",
        "\n",
        "       except FileNotFoundError:\n",
        "       print(f\"The file '{file_path}' does not exist.\")\n",
        "       except Exception as e:\n",
        "       print(f\"An error occurred: {e}\")"
      ],
      "metadata": {
        "id": "h6DfUgpyODck"
      }
    },
    {
      "cell_type": "markdown",
      "source": [
        "22.  How can you check if a file is empty before attempting to read its contents.\n",
        "- You can check if a file is empty in Python before reading it using the os module or by reading its contents and checking the length.\n",
        "       import os\n",
        "\n",
        "       file_path = \"example.txt\"\n",
        "\n",
        "       if os.path.exists(file_path):\n",
        "       if os.path.getsize(file_path) == 0:\n",
        "      print(\"The file is empty.\")\n",
        "      else:\n",
        "        with open(file_path, \"r\") as file:\n",
        "            print(file.read())\n",
        "      else:\n",
        "      print(\"File does not exist.\")"
      ],
      "metadata": {
        "id": "DUHEogiqOVg3"
      }
    },
    {
      "cell_type": "markdown",
      "source": [
        "23. Write a Python program that writes to a log file when an error occurs during file handling.\n",
        "-\n",
        "      import logging\n",
        "\n",
        "      # Configure logging\n",
        "      logging.basicConfig(\n",
        "      filename=\"file_errors.log\",\n",
        "      level=logging.ERROR,\n",
        "      format=\"%(asctime)s - %(levelname)s - %(message)s\"\n",
        "      )\n",
        "\n",
        "      file_path = \"non_existing_file.txt\"\n",
        "\n",
        "      try:\n",
        "      with open(file_path, \"r\") as file:\n",
        "        contents = file.read()\n",
        "        print(contents)\n",
        "      except FileNotFoundError as e:\n",
        "      logging.error(f\"File not found: {file_path} - {e}\")\n",
        "      print(\"Error: File does not exist.\")\n",
        "      except PermissionError as e:\n",
        "      logging.error(f\"Permission denied: {file_path} - {e}\")\n",
        "      print(\"Error: Permission denied to access the file.\")\n",
        "      except Exception as e:\n",
        "      logging.error(f\"Unexpected error with file {file_path} - {e}\")\n",
        "      print(\"An unexpected error occurred.\")"
      ],
      "metadata": {
        "id": "39x6VLK5OmBq"
      }
    }
  ]
}